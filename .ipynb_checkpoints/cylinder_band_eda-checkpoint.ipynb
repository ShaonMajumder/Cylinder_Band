{
 "cells": [
  {
   "cell_type": "markdown",
   "metadata": {},
   "source": [
    "# Cylinder Band dataset EDA"
   ]
  },
  {
   "cell_type": "code",
   "execution_count": 424,
   "metadata": {},
   "outputs": [],
   "source": [
    "# -*- coding: utf-8 -*-\n",
    "import numpy as np\n",
    "import pandas as pd"
   ]
  },
  {
   "cell_type": "code",
   "execution_count": 425,
   "metadata": {},
   "outputs": [],
   "source": [
    "## settings constants and parameters\n",
    "Data_Folder = 'data'\n",
    "Result_Folder = 'result'"
   ]
  },
  {
   "cell_type": "code",
   "execution_count": 426,
   "metadata": {},
   "outputs": [],
   "source": [
    "columns = ['timestamp', ' cylinder_number', 'customer', 'job_number',\n",
    "       'grain_screened', 'ink_color', 'proof_on_ctd_ink', 'blade_mfg',\n",
    "       'cylinder_division', 'paper_type', 'ink_type', 'direct_steam',\n",
    "       'solvent_type', 'type_on_cylinder', 'press_type', 'press',\n",
    "       'unit_number', 'cylinder_size', 'paper_mil_location', 'plating_tank',\n",
    "       'proof_cut', 'viscosity', 'caliper', 'ink_temperature', 'humify',\n",
    "       'roughness', 'blade_pressure', 'varnish_pct', 'press_speed', 'ink_pct',\n",
    "       'solvent_pct', 'ESA_Voltage', 'ESA_Amperage', 'wax', 'hardener',\n",
    "       'roller_durometer', 'current_density', 'anode_spac_ratio',\n",
    "       'chrome_content', 'band_type']\n",
    "\n",
    "## Loading data when \"?\" character considered as missing value and will be converted to null value\n",
    "data = pd.read_csv(Data_Folder+\"/bands.csv\" , names=columns, na_values=[\"?\"], )\n",
    "\n",
    "## convert null values to '?' character\n",
    "data.fillna('?',inplace=True)\n",
    "data = data.astype(str)"
   ]
  },
  {
   "cell_type": "code",
   "execution_count": 427,
   "metadata": {},
   "outputs": [
    {
     "name": "stdout",
     "output_type": "stream",
     "text": [
      "Shape of database: Samples x Measurements : (541, 40)\n",
      "\n",
      "Input Measurement: Index(['timestamp', ' cylinder_number', 'customer', 'job_number',\n",
      "       'grain_screened', 'ink_color', 'proof_on_ctd_ink', 'blade_mfg',\n",
      "       'cylinder_division', 'paper_type', 'ink_type', 'direct_steam',\n",
      "       'solvent_type', 'type_on_cylinder', 'press_type', 'press',\n",
      "       'unit_number', 'cylinder_size', 'paper_mil_location', 'plating_tank',\n",
      "       'proof_cut', 'viscosity', 'caliper', 'ink_temperature', 'humify',\n",
      "       'roughness', 'blade_pressure', 'varnish_pct', 'press_speed', 'ink_pct',\n",
      "       'solvent_pct', 'ESA_Voltage', 'ESA_Amperage', 'wax', 'hardener',\n",
      "       'roller_durometer', 'current_density', 'anode_spac_ratio',\n",
      "       'chrome_content'],\n",
      "      dtype='object')\n",
      "\n",
      "Target Measurement: band_type\n",
      "\n"
     ]
    }
   ],
   "source": [
    "## Data Preprocessing\n",
    "print(\"Shape of database: Samples x Measurements : \"+str(data.shape)+\"\\n\")\n",
    "Input_Key = data.columns[:-1]\n",
    "Target_Key = data.columns[-1]\n",
    "print(\"Input Measurement: \"+str(Input_Key)+\"\\n\")\n",
    "print(\"Target Measurement: \"+str(Target_Key)+\"\\n\")"
   ]
  },
  {
   "cell_type": "markdown",
   "metadata": {},
   "source": [
    "## Creating a missing value map csv file"
   ]
  },
  {
   "cell_type": "code",
   "execution_count": 428,
   "metadata": {
    "scrolled": true
   },
   "outputs": [
    {
     "name": "stdout",
     "output_type": "stream",
     "text": [
      "Missing Value of Target Label Column = 2\n"
     ]
    }
   ],
   "source": [
    "DTF = data == '?'\n",
    "ncol_count = [DTF[c].sum() for c in DTF.columns]\n",
    "\n",
    "## Adding missing value count of \n",
    "data2 = pd.DataFrame(np.array([ncol_count]), columns=data.columns)\n",
    "dataM = data.append(data2, ignore_index=True)\n",
    "\n",
    "\n",
    "## Check the number of empty cells or '?' in a row, axis = 1 for row\n",
    "dataM['missing_cells_in_row'] = dataM.iloc[ : , : ].isnull().sum(axis=1) + dataM.iloc[:, :].eq(\"?\").sum(axis=1)\n",
    "## Checking the empty value of target column, axis = 0 for column\n",
    "Missing_Value_in_Target_Column = dataM[Target_Key].isnull().sum(axis=0) + dataM[Target_Key].eq(\"?\").sum(axis=0)\n",
    "\n",
    "print(\"Missing Value of Target Label Column = \"+str(Missing_Value_in_Target_Column))\n",
    "\n",
    "## 542\n",
    "import os\n",
    "try:\n",
    "    os.remove(\"missing_value_count_xy.csv\")\n",
    "except:\n",
    "    pass\n",
    "    \n",
    "dataM.to_csv(\"missing_value_count_xy.csv\",index=False)"
   ]
  },
  {
   "cell_type": "markdown",
   "metadata": {},
   "source": [
    "## **Removing the samples which has no Target label. We can not assign a random value to a binary catagory so, we are droping it"
   ]
  },
  {
   "cell_type": "code",
   "execution_count": 429,
   "metadata": {},
   "outputs": [
    {
     "name": "stdout",
     "output_type": "stream",
     "text": [
      "(539, 40)\n"
     ]
    }
   ],
   "source": [
    "data = data[data[Target_Key] != '?']\n",
    "print(data.shape)"
   ]
  },
  {
   "cell_type": "markdown",
   "metadata": {},
   "source": [
    "## ** Dataset Type:\n",
    "### Measurement types: Mix (Numeric(Continuous) + Catagorical)\n",
    "### Problem Innersense: As some conditional rules of cylinder banding was discovered by Human team, keeping track on all those conditions is hard.\n",
    "### Hypothesis of Model: 1st Estimate: Decision Tree"
   ]
  },
  {
   "cell_type": "markdown",
   "metadata": {},
   "source": [
    "## ** Attribute Information:\n",
    "### 1. timestamp: numeric;19500101 - 21001231 \n",
    "### 2. cylinder number: nominal \n",
    "### 3. customer: nominal; \n",
    "### 4. job number: nominal; \n",
    "### 5. grain screened: nominal; yes, no \n",
    "### 6. ink color: nominal; key, type \n",
    "### 7. proof on ctd ink: nominal; yes, no \n",
    "### 8. blade mfg: nominal; benton, daetwyler, uddeholm \n",
    "### 9. cylinder division: nominal; gallatin, warsaw, mattoon \n",
    "### 10. paper type: nominal; uncoated, coated, super \n",
    "### 11. ink type: nominal; uncoated, coated, cover \n",
    "### 12. direct steam: nominal; use; yes, no * \n",
    "### 13. solvent type: nominal; xylol, lactol, naptha, line, other \n",
    "### 14. type on cylinder: nominal; yes, no \n",
    "### 15. press type: nominal; use; 70 wood hoe, 70 motter, 70 albert, 94 motter \n",
    "### 16. press: nominal; 821, 802, 813, 824, 815, 816, 827, 828 \n",
    "### 17. unit number: nominal; 1, 2, 3, 4, 5, 6, 7, 8, 9, 10 \n",
    "### 18. cylinder size: nominal; catalog, spiegel, tabloid \n",
    "### 19. paper mill location: nominal; north us, south us, canadian, scandanavian, mid european \n",
    "### 20. plating tank: nominal; 1910, 1911, other \n",
    "### 21. proof cut: numeric; 0-100 \n",
    "### 22. viscosity: numeric; 0-100 \n",
    "### 23. caliper: numeric; 0-1.0 \n",
    "### 24. ink temperature: numeric; 5-30 \n",
    "### 25. humifity: numeric; 5-120 \n",
    "### 26. roughness: numeric; 0-2 \n",
    "### 27. blade pressure: numeric; 10-75 \n",
    "### 28. varnish pct: numeric; 0-100 \n",
    "### 29. press speed: numeric; 0-4000 \n",
    "### 30. ink pct: numeric; 0-100 \n",
    "### 31. solvent pct: numeric; 0-100 \n",
    "### 32. ESA Voltage: numeric; 0-16 \n",
    "### 33. ESA Amperage: numeric; 0-10 \n",
    "### 34. wax: numeric ; 0-4.0 \n",
    "### 35. hardener: numeric; 0-3.0 \n",
    "### 36. roller durometer: numeric; 15-120 \n",
    "### 37. current density: numeric; 20-50 \n",
    "### 38. anode space ratio: numeric; 70-130 \n",
    "### 39. chrome content: numeric; 80-120 \n",
    "### 40. band type: nominal; class; band, no band *"
   ]
  },
  {
   "cell_type": "code",
   "execution_count": null,
   "metadata": {},
   "outputs": [],
   "source": []
  }
 ],
 "metadata": {
  "kernelspec": {
   "display_name": "Python 3",
   "language": "python",
   "name": "python3"
  },
  "language_info": {
   "codemirror_mode": {
    "name": "ipython",
    "version": 3
   },
   "file_extension": ".py",
   "mimetype": "text/x-python",
   "name": "python",
   "nbconvert_exporter": "python",
   "pygments_lexer": "ipython3",
   "version": "3.6.5"
  }
 },
 "nbformat": 4,
 "nbformat_minor": 2
}
